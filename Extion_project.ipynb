{
  "nbformat": 4,
  "nbformat_minor": 0,
  "metadata": {
    "colab": {
      "provenance": []
    },
    "kernelspec": {
      "name": "python3",
      "display_name": "Python 3"
    },
    "language_info": {
      "name": "python"
    }
  },
  "cells": [
    {
      "cell_type": "markdown",
      "source": [
        "#**Skin Cancer Detection**  😇"
      ],
      "metadata": {
        "id": "wjRlE6BCq4XF"
      }
    },
    {
      "cell_type": "markdown",
      "source": [
        "##Libraries imported."
      ],
      "metadata": {
        "id": "JJEOoA775QU6"
      }
    },
    {
      "cell_type": "code",
      "source": [
        "import numpy as np\n",
        "import pandas as pd\n",
        "import matplotlib.pyplot as plt\n",
        "import seaborn as sns"
      ],
      "metadata": {
        "id": "_hybeiwYvrBb"
      },
      "execution_count": 1,
      "outputs": []
    },
    {
      "cell_type": "markdown",
      "source": [
        "##File is read."
      ],
      "metadata": {
        "id": "WGT_eAi55WjZ"
      }
    },
    {
      "cell_type": "code",
      "source": [
        "df=pd.read_csv(\"/content/wdbc.data\",header=None)"
      ],
      "metadata": {
        "id": "s6Lu3ssZv1eG",
        "colab": {
          "base_uri": "https://localhost:8080/",
          "height": 300
        },
        "outputId": "797576f8-d6f4-4801-a214-396d94350d4d"
      },
      "execution_count": 2,
      "outputs": [
        {
          "output_type": "error",
          "ename": "FileNotFoundError",
          "evalue": "[Errno 2] No such file or directory: '/content/wdbc.data'",
          "traceback": [
            "\u001b[0;31m---------------------------------------------------------------------------\u001b[0m",
            "\u001b[0;31mFileNotFoundError\u001b[0m                         Traceback (most recent call last)",
            "\u001b[0;32m<ipython-input-2-bf24332e4e82>\u001b[0m in \u001b[0;36m<cell line: 1>\u001b[0;34m()\u001b[0m\n\u001b[0;32m----> 1\u001b[0;31m \u001b[0mdf\u001b[0m\u001b[0;34m=\u001b[0m\u001b[0mpd\u001b[0m\u001b[0;34m.\u001b[0m\u001b[0mread_csv\u001b[0m\u001b[0;34m(\u001b[0m\u001b[0;34m\"/content/wdbc.data\"\u001b[0m\u001b[0;34m,\u001b[0m\u001b[0mheader\u001b[0m\u001b[0;34m=\u001b[0m\u001b[0;32mNone\u001b[0m\u001b[0;34m)\u001b[0m\u001b[0;34m\u001b[0m\u001b[0;34m\u001b[0m\u001b[0m\n\u001b[0m",
            "\u001b[0;32m/usr/local/lib/python3.10/dist-packages/pandas/io/parsers/readers.py\u001b[0m in \u001b[0;36mread_csv\u001b[0;34m(filepath_or_buffer, sep, delimiter, header, names, index_col, usecols, dtype, engine, converters, true_values, false_values, skipinitialspace, skiprows, skipfooter, nrows, na_values, keep_default_na, na_filter, verbose, skip_blank_lines, parse_dates, infer_datetime_format, keep_date_col, date_parser, date_format, dayfirst, cache_dates, iterator, chunksize, compression, thousands, decimal, lineterminator, quotechar, quoting, doublequote, escapechar, comment, encoding, encoding_errors, dialect, on_bad_lines, delim_whitespace, low_memory, memory_map, float_precision, storage_options, dtype_backend)\u001b[0m\n\u001b[1;32m   1024\u001b[0m     \u001b[0mkwds\u001b[0m\u001b[0;34m.\u001b[0m\u001b[0mupdate\u001b[0m\u001b[0;34m(\u001b[0m\u001b[0mkwds_defaults\u001b[0m\u001b[0;34m)\u001b[0m\u001b[0;34m\u001b[0m\u001b[0;34m\u001b[0m\u001b[0m\n\u001b[1;32m   1025\u001b[0m \u001b[0;34m\u001b[0m\u001b[0m\n\u001b[0;32m-> 1026\u001b[0;31m     \u001b[0;32mreturn\u001b[0m \u001b[0m_read\u001b[0m\u001b[0;34m(\u001b[0m\u001b[0mfilepath_or_buffer\u001b[0m\u001b[0;34m,\u001b[0m \u001b[0mkwds\u001b[0m\u001b[0;34m)\u001b[0m\u001b[0;34m\u001b[0m\u001b[0;34m\u001b[0m\u001b[0m\n\u001b[0m\u001b[1;32m   1027\u001b[0m \u001b[0;34m\u001b[0m\u001b[0m\n\u001b[1;32m   1028\u001b[0m \u001b[0;34m\u001b[0m\u001b[0m\n",
            "\u001b[0;32m/usr/local/lib/python3.10/dist-packages/pandas/io/parsers/readers.py\u001b[0m in \u001b[0;36m_read\u001b[0;34m(filepath_or_buffer, kwds)\u001b[0m\n\u001b[1;32m    618\u001b[0m \u001b[0;34m\u001b[0m\u001b[0m\n\u001b[1;32m    619\u001b[0m     \u001b[0;31m# Create the parser.\u001b[0m\u001b[0;34m\u001b[0m\u001b[0;34m\u001b[0m\u001b[0m\n\u001b[0;32m--> 620\u001b[0;31m     \u001b[0mparser\u001b[0m \u001b[0;34m=\u001b[0m \u001b[0mTextFileReader\u001b[0m\u001b[0;34m(\u001b[0m\u001b[0mfilepath_or_buffer\u001b[0m\u001b[0;34m,\u001b[0m \u001b[0;34m**\u001b[0m\u001b[0mkwds\u001b[0m\u001b[0;34m)\u001b[0m\u001b[0;34m\u001b[0m\u001b[0;34m\u001b[0m\u001b[0m\n\u001b[0m\u001b[1;32m    621\u001b[0m \u001b[0;34m\u001b[0m\u001b[0m\n\u001b[1;32m    622\u001b[0m     \u001b[0;32mif\u001b[0m \u001b[0mchunksize\u001b[0m \u001b[0;32mor\u001b[0m \u001b[0miterator\u001b[0m\u001b[0;34m:\u001b[0m\u001b[0;34m\u001b[0m\u001b[0;34m\u001b[0m\u001b[0m\n",
            "\u001b[0;32m/usr/local/lib/python3.10/dist-packages/pandas/io/parsers/readers.py\u001b[0m in \u001b[0;36m__init__\u001b[0;34m(self, f, engine, **kwds)\u001b[0m\n\u001b[1;32m   1618\u001b[0m \u001b[0;34m\u001b[0m\u001b[0m\n\u001b[1;32m   1619\u001b[0m         \u001b[0mself\u001b[0m\u001b[0;34m.\u001b[0m\u001b[0mhandles\u001b[0m\u001b[0;34m:\u001b[0m \u001b[0mIOHandles\u001b[0m \u001b[0;34m|\u001b[0m \u001b[0;32mNone\u001b[0m \u001b[0;34m=\u001b[0m \u001b[0;32mNone\u001b[0m\u001b[0;34m\u001b[0m\u001b[0;34m\u001b[0m\u001b[0m\n\u001b[0;32m-> 1620\u001b[0;31m         \u001b[0mself\u001b[0m\u001b[0;34m.\u001b[0m\u001b[0m_engine\u001b[0m \u001b[0;34m=\u001b[0m \u001b[0mself\u001b[0m\u001b[0;34m.\u001b[0m\u001b[0m_make_engine\u001b[0m\u001b[0;34m(\u001b[0m\u001b[0mf\u001b[0m\u001b[0;34m,\u001b[0m \u001b[0mself\u001b[0m\u001b[0;34m.\u001b[0m\u001b[0mengine\u001b[0m\u001b[0;34m)\u001b[0m\u001b[0;34m\u001b[0m\u001b[0;34m\u001b[0m\u001b[0m\n\u001b[0m\u001b[1;32m   1621\u001b[0m \u001b[0;34m\u001b[0m\u001b[0m\n\u001b[1;32m   1622\u001b[0m     \u001b[0;32mdef\u001b[0m \u001b[0mclose\u001b[0m\u001b[0;34m(\u001b[0m\u001b[0mself\u001b[0m\u001b[0;34m)\u001b[0m \u001b[0;34m->\u001b[0m \u001b[0;32mNone\u001b[0m\u001b[0;34m:\u001b[0m\u001b[0;34m\u001b[0m\u001b[0;34m\u001b[0m\u001b[0m\n",
            "\u001b[0;32m/usr/local/lib/python3.10/dist-packages/pandas/io/parsers/readers.py\u001b[0m in \u001b[0;36m_make_engine\u001b[0;34m(self, f, engine)\u001b[0m\n\u001b[1;32m   1878\u001b[0m                 \u001b[0;32mif\u001b[0m \u001b[0;34m\"b\"\u001b[0m \u001b[0;32mnot\u001b[0m \u001b[0;32min\u001b[0m \u001b[0mmode\u001b[0m\u001b[0;34m:\u001b[0m\u001b[0;34m\u001b[0m\u001b[0;34m\u001b[0m\u001b[0m\n\u001b[1;32m   1879\u001b[0m                     \u001b[0mmode\u001b[0m \u001b[0;34m+=\u001b[0m \u001b[0;34m\"b\"\u001b[0m\u001b[0;34m\u001b[0m\u001b[0;34m\u001b[0m\u001b[0m\n\u001b[0;32m-> 1880\u001b[0;31m             self.handles = get_handle(\n\u001b[0m\u001b[1;32m   1881\u001b[0m                 \u001b[0mf\u001b[0m\u001b[0;34m,\u001b[0m\u001b[0;34m\u001b[0m\u001b[0;34m\u001b[0m\u001b[0m\n\u001b[1;32m   1882\u001b[0m                 \u001b[0mmode\u001b[0m\u001b[0;34m,\u001b[0m\u001b[0;34m\u001b[0m\u001b[0;34m\u001b[0m\u001b[0m\n",
            "\u001b[0;32m/usr/local/lib/python3.10/dist-packages/pandas/io/common.py\u001b[0m in \u001b[0;36mget_handle\u001b[0;34m(path_or_buf, mode, encoding, compression, memory_map, is_text, errors, storage_options)\u001b[0m\n\u001b[1;32m    871\u001b[0m         \u001b[0;32mif\u001b[0m \u001b[0mioargs\u001b[0m\u001b[0;34m.\u001b[0m\u001b[0mencoding\u001b[0m \u001b[0;32mand\u001b[0m \u001b[0;34m\"b\"\u001b[0m \u001b[0;32mnot\u001b[0m \u001b[0;32min\u001b[0m \u001b[0mioargs\u001b[0m\u001b[0;34m.\u001b[0m\u001b[0mmode\u001b[0m\u001b[0;34m:\u001b[0m\u001b[0;34m\u001b[0m\u001b[0;34m\u001b[0m\u001b[0m\n\u001b[1;32m    872\u001b[0m             \u001b[0;31m# Encoding\u001b[0m\u001b[0;34m\u001b[0m\u001b[0;34m\u001b[0m\u001b[0m\n\u001b[0;32m--> 873\u001b[0;31m             handle = open(\n\u001b[0m\u001b[1;32m    874\u001b[0m                 \u001b[0mhandle\u001b[0m\u001b[0;34m,\u001b[0m\u001b[0;34m\u001b[0m\u001b[0;34m\u001b[0m\u001b[0m\n\u001b[1;32m    875\u001b[0m                 \u001b[0mioargs\u001b[0m\u001b[0;34m.\u001b[0m\u001b[0mmode\u001b[0m\u001b[0;34m,\u001b[0m\u001b[0;34m\u001b[0m\u001b[0;34m\u001b[0m\u001b[0m\n",
            "\u001b[0;31mFileNotFoundError\u001b[0m: [Errno 2] No such file or directory: '/content/wdbc.data'"
          ]
        }
      ]
    },
    {
      "cell_type": "markdown",
      "source": [
        "##Some meta data about the project statement."
      ],
      "metadata": {
        "id": "ynyMjXwX5dNV"
      }
    },
    {
      "cell_type": "code",
      "source": [
        "with open(\"/content/wdbc.names\", 'r') as file:\n",
        "    contents = file.read()\n",
        "    print(contents)\n"
      ],
      "metadata": {
        "id": "k2OfVaBzwgU9"
      },
      "execution_count": null,
      "outputs": []
    },
    {
      "cell_type": "markdown",
      "source": [
        "##Data preprocessing"
      ],
      "metadata": {
        "id": "qlFZk76qq2ZH"
      }
    },
    {
      "cell_type": "code",
      "source": [
        "df.shape"
      ],
      "metadata": {
        "id": "EPBSEnALwun4"
      },
      "execution_count": null,
      "outputs": []
    },
    {
      "cell_type": "code",
      "source": [
        "df.head()"
      ],
      "metadata": {
        "id": "MSr2_593wIVf"
      },
      "execution_count": null,
      "outputs": []
    },
    {
      "cell_type": "code",
      "source": [],
      "metadata": {
        "id": "5-kaZUyqR_i3"
      },
      "execution_count": null,
      "outputs": []
    },
    {
      "cell_type": "markdown",
      "source": [
        "##About columns :\n",
        "\n",
        "\n",
        "*   Column 0 is id .[redundant]\n",
        "*   Column 1 is the target variable which is categroical in this case.\n",
        "*   Rest all columns are features which are numeric upto 4 decimal points.\n",
        "*   The data consists of no null values and is properly cleaned in advance.\n",
        "\n",
        "\n",
        "\n"
      ],
      "metadata": {
        "id": "eRhevnmb5zIh"
      }
    },
    {
      "cell_type": "code",
      "source": [
        "df.info()"
      ],
      "metadata": {
        "id": "xmditgTv6a8P"
      },
      "execution_count": null,
      "outputs": []
    },
    {
      "cell_type": "code",
      "source": [],
      "metadata": {
        "id": "5iysiNtU685u"
      },
      "execution_count": null,
      "outputs": []
    },
    {
      "cell_type": "code",
      "source": [
        "y=df[1]"
      ],
      "metadata": {
        "id": "0X3v0dmMwKXU"
      },
      "execution_count": null,
      "outputs": []
    },
    {
      "cell_type": "code",
      "source": [
        "y.value_counts()"
      ],
      "metadata": {
        "id": "5PR7M4sQx1CE"
      },
      "execution_count": null,
      "outputs": []
    },
    {
      "cell_type": "code",
      "source": [
        "df=df.drop([0,1],axis=1)"
      ],
      "metadata": {
        "id": "RCnRfTrvvx_-"
      },
      "execution_count": null,
      "outputs": []
    },
    {
      "cell_type": "code",
      "source": [
        "df.shape\n",
        "df"
      ],
      "metadata": {
        "id": "6HSYOPHmvq-N"
      },
      "execution_count": null,
      "outputs": []
    },
    {
      "cell_type": "code",
      "source": [
        "from sklearn.preprocessing  import LabelEncoder\n",
        "encoder=LabelEncoder()"
      ],
      "metadata": {
        "id": "8cu1lXGE47Xk"
      },
      "execution_count": null,
      "outputs": []
    },
    {
      "cell_type": "code",
      "source": [
        "y=encoder.fit_transform(y)"
      ],
      "metadata": {
        "id": "mQI86C_eutdO"
      },
      "execution_count": null,
      "outputs": []
    },
    {
      "cell_type": "code",
      "source": [
        "y.shape"
      ],
      "metadata": {
        "id": "xDbs5gIxx9lX"
      },
      "execution_count": null,
      "outputs": []
    },
    {
      "cell_type": "code",
      "source": [],
      "metadata": {
        "id": "Obv59XxP5HLv"
      },
      "execution_count": null,
      "outputs": []
    },
    {
      "cell_type": "code",
      "source": [
        "y=pd.Series(y)"
      ],
      "metadata": {
        "id": "M-JzfYv-tBuN"
      },
      "execution_count": null,
      "outputs": []
    },
    {
      "cell_type": "markdown",
      "source": [
        "##data visualization\n",
        "The below histplot of datapoint  shows that there might be some outliers or the dataset is not centered .hence standardization is required."
      ],
      "metadata": {
        "id": "4uI_I8TK7K_O"
      }
    },
    {
      "cell_type": "code",
      "source": [
        "df=df.drop([1],axis=1)"
      ],
      "metadata": {
        "id": "-EX2Sifg95d4"
      },
      "execution_count": null,
      "outputs": []
    },
    {
      "cell_type": "code",
      "source": [
        "df.shape"
      ],
      "metadata": {
        "id": "N3eEz12qB0iK"
      },
      "execution_count": null,
      "outputs": []
    },
    {
      "cell_type": "code",
      "source": [],
      "metadata": {
        "id": "Nxh6ruhYSalY"
      },
      "execution_count": null,
      "outputs": []
    },
    {
      "cell_type": "code",
      "source": [
        "plt.hist(df);"
      ],
      "metadata": {
        "id": "yKak0uLCx_Ug"
      },
      "execution_count": null,
      "outputs": []
    },
    {
      "cell_type": "code",
      "source": [
        "from sklearn.preprocessing import StandardScaler, LabelEncoder"
      ],
      "metadata": {
        "id": "kaSicVQzyFi8"
      },
      "execution_count": null,
      "outputs": []
    },
    {
      "cell_type": "code",
      "source": [
        "scaler=StandardScaler()\n",
        "scaled_data=scaler.fit_transform(df);"
      ],
      "metadata": {
        "id": "zqm4X9NAyUl_"
      },
      "execution_count": null,
      "outputs": []
    },
    {
      "cell_type": "markdown",
      "source": [
        "##The data is prepared using  its ususal scaling of guassian distribution with mean zero and variance =1"
      ],
      "metadata": {
        "id": "E2KKioa-7epW"
      }
    },
    {
      "cell_type": "code",
      "source": [],
      "metadata": {
        "id": "WIFvLeAG7d8j"
      },
      "execution_count": null,
      "outputs": []
    },
    {
      "cell_type": "code",
      "source": [
        "plt.hist(scaled_data);"
      ],
      "metadata": {
        "id": "iYiJfaFHycnp"
      },
      "execution_count": null,
      "outputs": []
    },
    {
      "cell_type": "code",
      "source": [],
      "metadata": {
        "id": "YWCxLxHKGsFl"
      },
      "execution_count": null,
      "outputs": []
    },
    {
      "cell_type": "code",
      "source": [
        "encoder=LabelEncoder()\n",
        "y=encoder.fit_transform(y)"
      ],
      "metadata": {
        "id": "8FPo7AkSy5ZM"
      },
      "execution_count": null,
      "outputs": []
    },
    {
      "cell_type": "markdown",
      "source": [
        "##Model building via sckit-learn\n",
        "\n",
        "model picked : Random Forest Classifier.\n",
        "\n",
        "\n",
        "accuracy: 1 on validation set.\n",
        "\n",
        "\n",
        "\n",
        "\n",
        "\n",
        "\n"
      ],
      "metadata": {
        "id": "d8AhAMTo_bdy"
      }
    },
    {
      "cell_type": "code",
      "source": [
        "from sklearn.model_selection import train_test_split\n",
        "xtrain,xval,ytrain,yval=train_test_split(scaled_data,y,test_size=0.2,random_state=42)\n"
      ],
      "metadata": {
        "id": "QzCwAeovzZrC"
      },
      "execution_count": null,
      "outputs": []
    },
    {
      "cell_type": "code",
      "source": [
        "from sklearn.ensemble import RandomForestClassifier\n",
        "from sklearn.metrics import accuracy_score\n",
        "model=RandomForestClassifier()\n",
        "model.fit(xtrain,ytrain)\n",
        "ypred=model.predict(xval)\n",
        "print(accuracy_score(yval,ypred))\n"
      ],
      "metadata": {
        "id": "1s5jnUDlzuMp"
      },
      "execution_count": null,
      "outputs": []
    },
    {
      "cell_type": "markdown",
      "source": [
        "#Using autoML (H2o)"
      ],
      "metadata": {
        "id": "wD1xFnyMABuK"
      }
    },
    {
      "cell_type": "code",
      "execution_count": null,
      "metadata": {
        "id": "z96CXes0r26Y"
      },
      "outputs": [],
      "source": [
        "# pip install h2o"
      ]
    },
    {
      "cell_type": "code",
      "source": [
        "# import h2o"
      ],
      "metadata": {
        "id": "hOBDOEG9s0yG"
      },
      "execution_count": null,
      "outputs": []
    },
    {
      "cell_type": "code",
      "source": [
        "# from h2o.frame import H2OFrame\n"
      ],
      "metadata": {
        "id": "ImWTHewEs2YW"
      },
      "execution_count": null,
      "outputs": []
    },
    {
      "cell_type": "code",
      "source": [
        "# from h2o.automl import H2OAutoML"
      ],
      "metadata": {
        "id": "rNel-PbzsBPy"
      },
      "execution_count": null,
      "outputs": []
    },
    {
      "cell_type": "code",
      "source": [
        "# h2o.init()\n"
      ],
      "metadata": {
        "id": "gKUmQpJ7sVBk"
      },
      "execution_count": null,
      "outputs": []
    },
    {
      "cell_type": "code",
      "source": [
        "# h2o_df=h2o.H2OFrame(scaled_data)"
      ],
      "metadata": {
        "id": "FtMb9gw1stkj"
      },
      "execution_count": null,
      "outputs": []
    },
    {
      "cell_type": "code",
      "source": [],
      "metadata": {
        "id": "q6cH1pNT4epd"
      },
      "execution_count": null,
      "outputs": []
    },
    {
      "cell_type": "code",
      "source": [
        "# train,val=h2o_df.split_frame(ratios=[0.8],seed=1234)\n"
      ],
      "metadata": {
        "id": "TsxZOm4Y2bNG"
      },
      "execution_count": null,
      "outputs": []
    },
    {
      "cell_type": "code",
      "source": [
        "# val"
      ],
      "metadata": {
        "id": "kc4UABvB2jb6"
      },
      "execution_count": null,
      "outputs": []
    },
    {
      "cell_type": "code",
      "source": [
        "# ytrain=y[:460]"
      ],
      "metadata": {
        "id": "zTDDG80K7Eca"
      },
      "execution_count": null,
      "outputs": []
    },
    {
      "cell_type": "code",
      "source": [
        "# train.shape,val.shape"
      ],
      "metadata": {
        "id": "YdLzBeZ4C_68"
      },
      "execution_count": null,
      "outputs": []
    },
    {
      "cell_type": "code",
      "source": [
        "# yval=y[460:]"
      ],
      "metadata": {
        "id": "KT_jWn202kP-"
      },
      "execution_count": null,
      "outputs": []
    },
    {
      "cell_type": "code",
      "source": [
        "# train.shape,ytrain.shape,val.shape,yval.shape"
      ],
      "metadata": {
        "id": "YUAwsb50DCiC"
      },
      "execution_count": null,
      "outputs": []
    },
    {
      "cell_type": "code",
      "source": [
        "# ytrain_pd = pd.DataFrame(ytrain, columns=['ytrain'])  # Create Pandas DataFrame\n",
        "# ytrain_h2o = H2OFrame(ytrain_pd)\n"
      ],
      "metadata": {
        "id": "s_Ab6SbTDIJ6"
      },
      "execution_count": null,
      "outputs": []
    },
    {
      "cell_type": "code",
      "source": [
        "# yval = pd.DataFrame(yval, columns=['yval'])  # Create Pandas DataFrame\n",
        "# yval_h2o = H2OFrame(yval)"
      ],
      "metadata": {
        "id": "13ppRx6q7Tpf"
      },
      "execution_count": null,
      "outputs": []
    },
    {
      "cell_type": "code",
      "source": [
        "# ytrain_h2o.columns = ['yy']\n",
        "# yval_h2o.columns = ['yy']"
      ],
      "metadata": {
        "id": "gfO7tTyIGchm"
      },
      "execution_count": null,
      "outputs": []
    },
    {
      "cell_type": "code",
      "source": [
        "# train.shape,val.shape"
      ],
      "metadata": {
        "id": "B5DxLho7CCDp"
      },
      "execution_count": null,
      "outputs": []
    },
    {
      "cell_type": "code",
      "source": [
        "# train_split = train.cbind(ytrain_h2o) # Only add the relevant part of ytrain\n",
        "# val_split = val.cbind(yval_h2o)   # Only add the relevant part of ytrain\n"
      ],
      "metadata": {
        "id": "2WNeilKHGiio"
      },
      "execution_count": null,
      "outputs": []
    },
    {
      "cell_type": "code",
      "source": [
        "# train_split.shape,val_split.shape"
      ],
      "metadata": {
        "id": "inMZyS1CHZ3m"
      },
      "execution_count": null,
      "outputs": []
    },
    {
      "cell_type": "code",
      "source": [
        "# train_split['yy'] = train_split['yy'].asfactor()  # Convert to categorical in train\n",
        "# val_split['yy'] = val_split['yy'].asfactor()    # Convert to categorical in validation"
      ],
      "metadata": {
        "id": "Ud0QMExfME5U"
      },
      "execution_count": null,
      "outputs": []
    },
    {
      "cell_type": "code",
      "source": [
        "# ytrain_h2o"
      ],
      "metadata": {
        "id": "BaGhHM5cCPk1"
      },
      "execution_count": null,
      "outputs": []
    },
    {
      "cell_type": "code",
      "source": [
        "# yval_h2o"
      ],
      "metadata": {
        "id": "xiTyDA-RCCdG"
      },
      "execution_count": null,
      "outputs": []
    },
    {
      "cell_type": "code",
      "source": [
        "# train_split"
      ],
      "metadata": {
        "id": "1_GCY2IyJGE8"
      },
      "execution_count": null,
      "outputs": []
    },
    {
      "cell_type": "code",
      "source": [],
      "metadata": {
        "id": "MAgTfPLIKE8C"
      },
      "execution_count": null,
      "outputs": []
    },
    {
      "cell_type": "code",
      "source": [
        "# aml=H2OAutoML(max_models=20,seed=1234)"
      ],
      "metadata": {
        "id": "8nTMHxsK2vU7"
      },
      "execution_count": null,
      "outputs": []
    },
    {
      "cell_type": "code",
      "source": [
        "# aml.train(x=train_split.columns[:-1],y='yy',training_frame=train_split,validation_frame=val_split)"
      ],
      "metadata": {
        "id": "v7nWmscW3TVm"
      },
      "execution_count": null,
      "outputs": []
    },
    {
      "cell_type": "code",
      "source": [
        "# lb = aml.leaderboard\n",
        "# print(lb.head(rows=20))"
      ],
      "metadata": {
        "id": "uGfTG_z93gJ5"
      },
      "execution_count": null,
      "outputs": []
    },
    {
      "cell_type": "code",
      "source": [
        "# Get the name of the best model from the leaderboard.\n",
        "# best_model_name = aml.leader.model_id\n",
        "\n",
        "# Access the model using its name.\n",
        "# best_model = h2o.get_model(best_model_name)\n",
        "\n",
        "# Now you can use the model to generate explanations.\n",
        "# best_model.explain(train)"
      ],
      "metadata": {
        "id": "TPLvWmqy3YQI"
      },
      "execution_count": null,
      "outputs": []
    },
    {
      "cell_type": "code",
      "source": [
        "# best_model_name"
      ],
      "metadata": {
        "id": "pCzjA7u5I71Z"
      },
      "execution_count": null,
      "outputs": []
    },
    {
      "cell_type": "code",
      "source": [],
      "metadata": {
        "id": "LjOOcWxeI9wB"
      },
      "execution_count": null,
      "outputs": []
    },
    {
      "cell_type": "code",
      "source": [
        "# best_model.model_performance(val_split)"
      ],
      "metadata": {
        "id": "0CvKpCg-1rXJ"
      },
      "execution_count": null,
      "outputs": []
    },
    {
      "cell_type": "code",
      "source": [
        "# best_model.explain(val_split)"
      ],
      "metadata": {
        "id": "nNA_M48a4xEd"
      },
      "execution_count": null,
      "outputs": []
    },
    {
      "cell_type": "code",
      "source": [
        "# val_split"
      ],
      "metadata": {
        "id": "GIm9VC3P4y8A"
      },
      "execution_count": null,
      "outputs": []
    },
    {
      "cell_type": "code",
      "source": [],
      "metadata": {
        "id": "ehkN4oIHWGJ5"
      },
      "execution_count": null,
      "outputs": []
    },
    {
      "cell_type": "code",
      "source": [
        "# val=val_split.drop(['yy'],axis=1)"
      ],
      "metadata": {
        "id": "t60mF7-EA_4z"
      },
      "execution_count": null,
      "outputs": []
    },
    {
      "cell_type": "code",
      "source": [],
      "metadata": {
        "id": "zkNGUMw0B348"
      },
      "execution_count": null,
      "outputs": []
    },
    {
      "cell_type": "code",
      "source": [],
      "metadata": {
        "id": "D4vLElOABD_r"
      },
      "execution_count": null,
      "outputs": []
    },
    {
      "cell_type": "code",
      "source": [
        "# predictions = best_model.predict(val)"
      ],
      "metadata": {
        "id": "X8trpaZm1ufe"
      },
      "execution_count": null,
      "outputs": []
    },
    {
      "cell_type": "code",
      "source": [],
      "metadata": {
        "id": "Y3NqOHGbQDxl"
      },
      "execution_count": null,
      "outputs": []
    },
    {
      "cell_type": "code",
      "source": [
        "# predictions"
      ],
      "metadata": {
        "id": "7jGyJcqcBHsT"
      },
      "execution_count": null,
      "outputs": []
    },
    {
      "cell_type": "code",
      "source": [],
      "metadata": {
        "id": "n5SHsKKMWjb4"
      },
      "execution_count": null,
      "outputs": []
    },
    {
      "cell_type": "code",
      "source": [],
      "metadata": {
        "id": "VwzazwerBIkz"
      },
      "execution_count": null,
      "outputs": []
    },
    {
      "cell_type": "code",
      "source": [
        "# predicted_labels=predictions[\"predict\"].as_data_frame().to_numpy()"
      ],
      "metadata": {
        "id": "Im29tWPD2DoH"
      },
      "execution_count": null,
      "outputs": []
    },
    {
      "cell_type": "code",
      "source": [
        "# true_labels = yval_h2o.as_data_frame().to_numpy() # Replace 'your_target_column_name'\n"
      ],
      "metadata": {
        "id": "0tr-Mvs42SNS"
      },
      "execution_count": null,
      "outputs": []
    },
    {
      "cell_type": "code",
      "source": [],
      "metadata": {
        "id": "LDhnylOFRRWU"
      },
      "execution_count": null,
      "outputs": []
    },
    {
      "cell_type": "code",
      "source": [],
      "metadata": {
        "id": "uOmgCAveRVAx"
      },
      "execution_count": null,
      "outputs": []
    },
    {
      "cell_type": "code",
      "source": [
        "# import numpy as np\n",
        "# from sklearn.metrics import accuracy_score\n",
        "\n",
        "# threshold = 0.5\n",
        "\n",
        "# predicted_labels_binary = np.where(predicted_labels >= threshold, 1, 0)\n",
        "# true_labels_binary = np.where(true_labels >= threshold, 1, 0)\n",
        "\n",
        "# accuracy = accuracy_score(true_labels_binary, predicted_labels_binary)\n",
        "# print(accuracy)"
      ],
      "metadata": {
        "id": "F43W-NdVDGXi"
      },
      "execution_count": null,
      "outputs": []
    },
    {
      "cell_type": "code",
      "source": [
        "# from sklearn.metrics import confusion_matrix, ConfusionMatrixDisplay\n",
        "# cm = confusion_matrix(true_labels_binary, predicted_labels_binary)\n",
        "\n",
        "# disp = ConfusionMatrixDisplay(confusion_matrix=cm, display_labels=['Benign', 'Malignant'])\n",
        "\n",
        "# disp.plot(cmap=plt.cm.Blues)\n",
        "# plt.title('Confusion Matrix for Breast Cancer Detection')\n",
        "# plt.show()"
      ],
      "metadata": {
        "id": "3B_JFdu-HVcs"
      },
      "execution_count": null,
      "outputs": []
    },
    {
      "cell_type": "markdown",
      "source": [
        "#AUTOKERAS"
      ],
      "metadata": {
        "id": "uGcywQuiqWNA"
      }
    },
    {
      "cell_type": "code",
      "source": [
        "pip install autokeras\n"
      ],
      "metadata": {
        "id": "OBEnK8hNqZC_"
      },
      "execution_count": null,
      "outputs": []
    },
    {
      "cell_type": "code",
      "source": [
        "pip install autokeras --upgrade\n"
      ],
      "metadata": {
        "id": "mYTd1I5-rjHl"
      },
      "execution_count": null,
      "outputs": []
    },
    {
      "cell_type": "code",
      "source": [
        "\n"
      ],
      "metadata": {
        "id": "iuFetHiIrj8D"
      },
      "execution_count": null,
      "outputs": []
    },
    {
      "cell_type": "code",
      "source": [
        "df=df.values"
      ],
      "metadata": {
        "id": "BZsQCFfvrpJk"
      },
      "execution_count": null,
      "outputs": []
    },
    {
      "cell_type": "code",
      "source": [
        "import numpy as np\n",
        "from sklearn.model_selection import train_test_split\n",
        "from sklearn.datasets import make_classification\n",
        "\n",
        "X_train, X_test, y_train, y_test = train_test_split(df, y, test_size=0.2, random_state=42)\n"
      ],
      "metadata": {
        "id": "HPffLmQ8qakV"
      },
      "execution_count": null,
      "outputs": []
    },
    {
      "cell_type": "code",
      "source": [
        "import autokeras as ak\n",
        "\n",
        "clf = ak.AutoModel(\n",
        "    inputs=ak.Input(),\n",
        "    outputs=ak.ClassificationHead(),\n",
        "    max_trials=10,\n",
        "    overwrite=True,\n",
        ")\n",
        "\n",
        "clf.fit(X_train, y_train, epochs=10)"
      ],
      "metadata": {
        "id": "kdi0jWJL49a1"
      },
      "execution_count": null,
      "outputs": []
    },
    {
      "cell_type": "code",
      "source": [
        "\n",
        "loss, accuracy = clf.evaluate(X_test, y_test)\n",
        "print(f\"Test accuracy: {accuracy}\")\n"
      ],
      "metadata": {
        "id": "0XFnPO3y4-QH"
      },
      "execution_count": null,
      "outputs": []
    },
    {
      "cell_type": "code",
      "source": [
        "\n",
        "predictions = clf.predict(X_test)\n",
        "\n",
        "predicted_classes = (predictions > 0.5).astype(int)\n"
      ],
      "metadata": {
        "id": "nWe4xdx_567V"
      },
      "execution_count": null,
      "outputs": []
    },
    {
      "cell_type": "code",
      "source": [
        "\n",
        "best_model = clf.export_model()\n",
        "\n",
        "\n",
        "\n"
      ],
      "metadata": {
        "id": "fiCQtE_U6CdV"
      },
      "execution_count": null,
      "outputs": []
    },
    {
      "cell_type": "code",
      "source": [
        "best_model.summary()"
      ],
      "metadata": {
        "id": "T7i071Uu6HMt"
      },
      "execution_count": null,
      "outputs": []
    },
    {
      "cell_type": "code",
      "source": [
        "from sklearn.metrics import classification_report\n",
        "import numpy as np\n",
        "\n",
        "\n",
        "y_pred_proba = best_model.predict(X_test)\n",
        "\n",
        "y_pred = (y_pred_proba > 0.5).astype(int)\n",
        "\n",
        "\n",
        "print(classification_report(y_test, y_pred))\n"
      ],
      "metadata": {
        "id": "Md7Ex6dF6a9u"
      },
      "execution_count": null,
      "outputs": []
    },
    {
      "cell_type": "code",
      "source": [
        "from sklearn.metrics import confusion_matrix\n",
        "import seaborn as sns\n",
        "import matplotlib.pyplot as plt\n",
        "\n",
        "\n",
        "y_pred_proba = best_model.predict(X_test)\n",
        "\n",
        "\n",
        "y_pred = (y_pred_proba > 0.5).astype(int)\n",
        "\n",
        "\n",
        "cm = confusion_matrix(y_test, y_pred)\n",
        "\n",
        "\n",
        "plt.figure(figsize=(6,4))\n",
        "sns.heatmap(cm, annot=True, fmt=\"d\", cmap=\"Blues\", xticklabels=[0,1], yticklabels=[0,1])\n",
        "plt.ylabel('Actual')\n",
        "plt.xlabel('Predicted')\n",
        "plt.title('Confusion Matrix for Skin Cancer Detection')\n",
        "plt.show()\n"
      ],
      "metadata": {
        "id": "URYcbKTp6Q2m"
      },
      "execution_count": null,
      "outputs": []
    },
    {
      "cell_type": "markdown",
      "source": [
        "#Conclusions and Project Report\n",
        "\n",
        "\n",
        "*   The best model is **functional** with accuracy of **0.9561**\n",
        "*   The average error  was **0.4384** on validation set and minimum was **0.2599**\n",
        "*   No. of misclassified points = 5\n",
        "\n",
        "*   Though a lot many techniques like H2o, sklearn were tried, but the main analysis is performed on AutoKeras.\n",
        "\n",
        "\n",
        "\n",
        "*   Submitted by : **Ravina**\n",
        "*   Submitted to : **Extion InfoTech Company**\n",
        "\n",
        "\n",
        "\n",
        "\n",
        "\n",
        "\n",
        "\n",
        "\n",
        "\n"
      ],
      "metadata": {
        "id": "pvO6wBuG-4O6"
      }
    }
  ]
}